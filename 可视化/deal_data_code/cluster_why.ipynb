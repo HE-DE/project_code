{
 "cells": [
  {
   "cell_type": "code",
   "execution_count": 1,
   "metadata": {},
   "outputs": [],
   "source": [
    "import pandas as pd\n",
    "import numpy as np\n",
    "from sklearn.cluster import Birch\n",
    "from sklearn.cluster import DBSCAN\n",
    "from sklearn.cluster import KMeans\n",
    "from collections import Counter\n",
    "from sklearn import metrics"
   ]
  },
  {
   "cell_type": "code",
   "execution_count": 2,
   "metadata": {},
   "outputs": [
    {
     "data": {
      "text/html": [
       "<div>\n",
       "<style scoped>\n",
       "    .dataframe tbody tr th:only-of-type {\n",
       "        vertical-align: middle;\n",
       "    }\n",
       "\n",
       "    .dataframe tbody tr th {\n",
       "        vertical-align: top;\n",
       "    }\n",
       "\n",
       "    .dataframe thead th {\n",
       "        text-align: right;\n",
       "    }\n",
       "</style>\n",
       "<table border=\"1\" class=\"dataframe\">\n",
       "  <thead>\n",
       "    <tr style=\"text-align: right;\">\n",
       "      <th></th>\n",
       "      <th>PM2.5(微克每立方米)</th>\n",
       "      <th>PM10(微克每立方米)</th>\n",
       "      <th>SO2(微克每立方米)</th>\n",
       "      <th>NO2(微克每立方米)</th>\n",
       "      <th>CO(毫克每立方米)</th>\n",
       "      <th>O3(微克每立方米)</th>\n",
       "      <th>U(m/s)</th>\n",
       "      <th>V(m/s)</th>\n",
       "      <th>TEMP(K)</th>\n",
       "      <th>RH(%)</th>\n",
       "      <th>PSFC(Pa)</th>\n",
       "      <th>lat</th>\n",
       "      <th>lon</th>\n",
       "      <th>AQI</th>\n",
       "      <th>Major pollutants</th>\n",
       "      <th>id</th>\n",
       "    </tr>\n",
       "  </thead>\n",
       "  <tbody>\n",
       "    <tr>\n",
       "      <th>0</th>\n",
       "      <td>20.209999</td>\n",
       "      <td>23.559999</td>\n",
       "      <td>8.65</td>\n",
       "      <td>4.58</td>\n",
       "      <td>0.29</td>\n",
       "      <td>63.439999</td>\n",
       "      <td>-2.48</td>\n",
       "      <td>-2.31</td>\n",
       "      <td>291.540009</td>\n",
       "      <td>68.139999</td>\n",
       "      <td>100350.109375</td>\n",
       "      <td>18.34</td>\n",
       "      <td>109.25</td>\n",
       "      <td>28.871428</td>\n",
       "      <td>PM2.5</td>\n",
       "      <td>0</td>\n",
       "    </tr>\n",
       "    <tr>\n",
       "      <th>1</th>\n",
       "      <td>20.410000</td>\n",
       "      <td>23.959999</td>\n",
       "      <td>9.28</td>\n",
       "      <td>5.24</td>\n",
       "      <td>0.29</td>\n",
       "      <td>62.529999</td>\n",
       "      <td>-3.43</td>\n",
       "      <td>-3.21</td>\n",
       "      <td>291.959991</td>\n",
       "      <td>67.410004</td>\n",
       "      <td>100546.632812</td>\n",
       "      <td>18.34</td>\n",
       "      <td>109.38</td>\n",
       "      <td>29.157143</td>\n",
       "      <td>PM2.5</td>\n",
       "      <td>1</td>\n",
       "    </tr>\n",
       "    <tr>\n",
       "      <th>2</th>\n",
       "      <td>21.170000</td>\n",
       "      <td>24.780001</td>\n",
       "      <td>10.07</td>\n",
       "      <td>5.47</td>\n",
       "      <td>0.30</td>\n",
       "      <td>62.240002</td>\n",
       "      <td>-3.43</td>\n",
       "      <td>-4.72</td>\n",
       "      <td>291.369995</td>\n",
       "      <td>69.589996</td>\n",
       "      <td>100428.132812</td>\n",
       "      <td>18.33</td>\n",
       "      <td>109.52</td>\n",
       "      <td>30.242857</td>\n",
       "      <td>PM2.5</td>\n",
       "      <td>2</td>\n",
       "    </tr>\n",
       "    <tr>\n",
       "      <th>3</th>\n",
       "      <td>22.240000</td>\n",
       "      <td>26.040001</td>\n",
       "      <td>10.36</td>\n",
       "      <td>5.28</td>\n",
       "      <td>0.30</td>\n",
       "      <td>63.580002</td>\n",
       "      <td>-2.92</td>\n",
       "      <td>-5.32</td>\n",
       "      <td>290.739990</td>\n",
       "      <td>72.940002</td>\n",
       "      <td>100569.273438</td>\n",
       "      <td>18.33</td>\n",
       "      <td>109.66</td>\n",
       "      <td>31.771429</td>\n",
       "      <td>PM2.5</td>\n",
       "      <td>3</td>\n",
       "    </tr>\n",
       "    <tr>\n",
       "      <th>4</th>\n",
       "      <td>19.680000</td>\n",
       "      <td>22.340000</td>\n",
       "      <td>7.62</td>\n",
       "      <td>3.58</td>\n",
       "      <td>0.29</td>\n",
       "      <td>66.209999</td>\n",
       "      <td>-2.51</td>\n",
       "      <td>-3.13</td>\n",
       "      <td>291.670013</td>\n",
       "      <td>65.970001</td>\n",
       "      <td>101620.343750</td>\n",
       "      <td>18.49</td>\n",
       "      <td>108.83</td>\n",
       "      <td>28.114286</td>\n",
       "      <td>PM2.5</td>\n",
       "      <td>4</td>\n",
       "    </tr>\n",
       "  </tbody>\n",
       "</table>\n",
       "</div>"
      ],
      "text/plain": [
       "   PM2.5(微克每立方米)  PM10(微克每立方米)  SO2(微克每立方米)  NO2(微克每立方米)  CO(毫克每立方米)  \\\n",
       "0      20.209999     23.559999         8.65         4.58        0.29   \n",
       "1      20.410000     23.959999         9.28         5.24        0.29   \n",
       "2      21.170000     24.780001        10.07         5.47        0.30   \n",
       "3      22.240000     26.040001        10.36         5.28        0.30   \n",
       "4      19.680000     22.340000         7.62         3.58        0.29   \n",
       "\n",
       "   O3(微克每立方米)  U(m/s)  V(m/s)     TEMP(K)      RH(%)       PSFC(Pa)    lat  \\\n",
       "0   63.439999   -2.48   -2.31  291.540009  68.139999  100350.109375  18.34   \n",
       "1   62.529999   -3.43   -3.21  291.959991  67.410004  100546.632812  18.34   \n",
       "2   62.240002   -3.43   -4.72  291.369995  69.589996  100428.132812  18.33   \n",
       "3   63.580002   -2.92   -5.32  290.739990  72.940002  100569.273438  18.33   \n",
       "4   66.209999   -2.51   -3.13  291.670013  65.970001  101620.343750  18.49   \n",
       "\n",
       "      lon        AQI Major pollutants  id  \n",
       "0  109.25  28.871428            PM2.5   0  \n",
       "1  109.38  29.157143            PM2.5   1  \n",
       "2  109.52  30.242857            PM2.5   2  \n",
       "3  109.66  31.771429            PM2.5   3  \n",
       "4  108.83  28.114286            PM2.5   4  "
      ]
     },
     "execution_count": 2,
     "metadata": {},
     "output_type": "execute_result"
    }
   ],
   "source": [
    "df_data=pd.read_csv(\"D:\\\\data_vis\\\\DATA_FOR_PROJECT\\\\country\\\\201301\\\\CN-Reanalysis-daily-2013010100.csv\")\n",
    "df_data.head()"
   ]
  },
  {
   "cell_type": "code",
   "execution_count": 3,
   "metadata": {},
   "outputs": [
    {
     "data": {
      "text/html": [
       "<div>\n",
       "<style scoped>\n",
       "    .dataframe tbody tr th:only-of-type {\n",
       "        vertical-align: middle;\n",
       "    }\n",
       "\n",
       "    .dataframe tbody tr th {\n",
       "        vertical-align: top;\n",
       "    }\n",
       "\n",
       "    .dataframe thead th {\n",
       "        text-align: right;\n",
       "    }\n",
       "</style>\n",
       "<table border=\"1\" class=\"dataframe\">\n",
       "  <thead>\n",
       "    <tr style=\"text-align: right;\">\n",
       "      <th></th>\n",
       "      <th>PM2.5(微克每立方米)</th>\n",
       "      <th>PM10(微克每立方米)</th>\n",
       "      <th>SO2(微克每立方米)</th>\n",
       "      <th>NO2(微克每立方米)</th>\n",
       "      <th>CO(毫克每立方米)</th>\n",
       "      <th>O3(微克每立方米)</th>\n",
       "      <th>U(m/s)</th>\n",
       "      <th>V(m/s)</th>\n",
       "      <th>TEMP(K)</th>\n",
       "      <th>RH(%)</th>\n",
       "      <th>PSFC(Pa)</th>\n",
       "    </tr>\n",
       "  </thead>\n",
       "  <tbody>\n",
       "    <tr>\n",
       "      <th>0</th>\n",
       "      <td>20.209999</td>\n",
       "      <td>23.559999</td>\n",
       "      <td>8.65</td>\n",
       "      <td>4.58</td>\n",
       "      <td>0.29</td>\n",
       "      <td>63.439999</td>\n",
       "      <td>-2.48</td>\n",
       "      <td>-2.31</td>\n",
       "      <td>291.540009</td>\n",
       "      <td>68.139999</td>\n",
       "      <td>100350.109375</td>\n",
       "    </tr>\n",
       "    <tr>\n",
       "      <th>1</th>\n",
       "      <td>20.410000</td>\n",
       "      <td>23.959999</td>\n",
       "      <td>9.28</td>\n",
       "      <td>5.24</td>\n",
       "      <td>0.29</td>\n",
       "      <td>62.529999</td>\n",
       "      <td>-3.43</td>\n",
       "      <td>-3.21</td>\n",
       "      <td>291.959991</td>\n",
       "      <td>67.410004</td>\n",
       "      <td>100546.632812</td>\n",
       "    </tr>\n",
       "    <tr>\n",
       "      <th>2</th>\n",
       "      <td>21.170000</td>\n",
       "      <td>24.780001</td>\n",
       "      <td>10.07</td>\n",
       "      <td>5.47</td>\n",
       "      <td>0.30</td>\n",
       "      <td>62.240002</td>\n",
       "      <td>-3.43</td>\n",
       "      <td>-4.72</td>\n",
       "      <td>291.369995</td>\n",
       "      <td>69.589996</td>\n",
       "      <td>100428.132812</td>\n",
       "    </tr>\n",
       "    <tr>\n",
       "      <th>3</th>\n",
       "      <td>22.240000</td>\n",
       "      <td>26.040001</td>\n",
       "      <td>10.36</td>\n",
       "      <td>5.28</td>\n",
       "      <td>0.30</td>\n",
       "      <td>63.580002</td>\n",
       "      <td>-2.92</td>\n",
       "      <td>-5.32</td>\n",
       "      <td>290.739990</td>\n",
       "      <td>72.940002</td>\n",
       "      <td>100569.273438</td>\n",
       "    </tr>\n",
       "    <tr>\n",
       "      <th>4</th>\n",
       "      <td>19.680000</td>\n",
       "      <td>22.340000</td>\n",
       "      <td>7.62</td>\n",
       "      <td>3.58</td>\n",
       "      <td>0.29</td>\n",
       "      <td>66.209999</td>\n",
       "      <td>-2.51</td>\n",
       "      <td>-3.13</td>\n",
       "      <td>291.670013</td>\n",
       "      <td>65.970001</td>\n",
       "      <td>101620.343750</td>\n",
       "    </tr>\n",
       "  </tbody>\n",
       "</table>\n",
       "</div>"
      ],
      "text/plain": [
       "   PM2.5(微克每立方米)  PM10(微克每立方米)  SO2(微克每立方米)  NO2(微克每立方米)  CO(毫克每立方米)  \\\n",
       "0      20.209999     23.559999         8.65         4.58        0.29   \n",
       "1      20.410000     23.959999         9.28         5.24        0.29   \n",
       "2      21.170000     24.780001        10.07         5.47        0.30   \n",
       "3      22.240000     26.040001        10.36         5.28        0.30   \n",
       "4      19.680000     22.340000         7.62         3.58        0.29   \n",
       "\n",
       "   O3(微克每立方米)  U(m/s)  V(m/s)     TEMP(K)      RH(%)       PSFC(Pa)  \n",
       "0   63.439999   -2.48   -2.31  291.540009  68.139999  100350.109375  \n",
       "1   62.529999   -3.43   -3.21  291.959991  67.410004  100546.632812  \n",
       "2   62.240002   -3.43   -4.72  291.369995  69.589996  100428.132812  \n",
       "3   63.580002   -2.92   -5.32  290.739990  72.940002  100569.273438  \n",
       "4   66.209999   -2.51   -3.13  291.670013  65.970001  101620.343750  "
      ]
     },
     "execution_count": 3,
     "metadata": {},
     "output_type": "execute_result"
    }
   ],
   "source": [
    "X=df_data.drop(columns=[\"lat\",\"lon\",\"AQI\",\"Major pollutants\",\"id\"],inplace=False)\n",
    "X.head()"
   ]
  },
  {
   "cell_type": "code",
   "execution_count": 4,
   "metadata": {},
   "outputs": [],
   "source": [
    "X=np.array(X)"
   ]
  },
  {
   "cell_type": "code",
   "execution_count": 19,
   "metadata": {},
   "outputs": [],
   "source": [
    "cluster_score=[]\n",
    "method=[]"
   ]
  },
  {
   "cell_type": "code",
   "execution_count": 17,
   "metadata": {},
   "outputs": [
    {
     "data": {
      "text/plain": [
       "Birch(n_clusters=None)"
      ]
     },
     "execution_count": 17,
     "metadata": {},
     "output_type": "execute_result"
    }
   ],
   "source": [
    "#使用Birch聚类查看效果\n",
    "brc=Birch(n_clusters=None)\n",
    "brc.fit(X)"
   ]
  },
  {
   "cell_type": "code",
   "execution_count": 18,
   "metadata": {},
   "outputs": [],
   "source": [
    "from sklearn import metrics"
   ]
  },
  {
   "cell_type": "code",
   "execution_count": 20,
   "metadata": {},
   "outputs": [],
   "source": [
    "num=brc.predict(X)\n",
    "method.append(\"Birch\")\n",
    "cluster_score.append(metrics.calinski_harabasz_score(X, num))"
   ]
  },
  {
   "cell_type": "code",
   "execution_count": 21,
   "metadata": {},
   "outputs": [],
   "source": [
    "#使用DBSCAN聚类\n",
    "clustering = DBSCAN(eps=3, min_samples=3).fit(X)\n",
    "method.append(\"DBSCAN\")\n",
    "cluster_score.append(metrics.calinski_harabasz_score(X, clustering.labels_))"
   ]
  },
  {
   "cell_type": "code",
   "execution_count": 23,
   "metadata": {},
   "outputs": [
    {
     "data": {
      "text/plain": [
       "[882391497.4626384, 2.2186859643183374]"
      ]
     },
     "execution_count": 23,
     "metadata": {},
     "output_type": "execute_result"
    }
   ],
   "source": [
    "cluster_score"
   ]
  },
  {
   "cell_type": "code",
   "execution_count": 24,
   "metadata": {},
   "outputs": [],
   "source": [
    "kmeans=KMeans(n_clusters=5).fit(X)\n",
    "cluster_score.append(metrics.calinski_harabasz_score(X, kmeans.labels_))"
   ]
  },
  {
   "cell_type": "code",
   "execution_count": 25,
   "metadata": {},
   "outputs": [
    {
     "data": {
      "text/plain": [
       "[882391497.4626384, 2.2186859643183374, 382074.1841166502]"
      ]
     },
     "execution_count": 25,
     "metadata": {},
     "output_type": "execute_result"
    }
   ],
   "source": [
    "cluster_score"
   ]
  },
  {
   "cell_type": "code",
   "execution_count": 28,
   "metadata": {},
   "outputs": [],
   "source": [
    "cluster_num=[]\n",
    "num=np.unique(num)\n",
    "cluster_num.append(len(num))\n",
    "cluster_num.append(len(np.unique(clustering.labels_)))\n",
    "cluster_num.append(5)"
   ]
  },
  {
   "cell_type": "code",
   "execution_count": 29,
   "metadata": {},
   "outputs": [
    {
     "data": {
      "text/plain": [
       "[42239, 21, 5]"
      ]
     },
     "execution_count": 29,
     "metadata": {},
     "output_type": "execute_result"
    }
   ],
   "source": [
    "cluster_num"
   ]
  },
  {
   "cell_type": "code",
   "execution_count": 32,
   "metadata": {},
   "outputs": [],
   "source": [
    "method.append(\"KMEANS\")"
   ]
  },
  {
   "cell_type": "code",
   "execution_count": 33,
   "metadata": {},
   "outputs": [
    {
     "data": {
      "image/png": "[encoded data removed]",
      "text/plain": [
       "<Figure size 432x288 with 1 Axes>"
      ]
     },
     "metadata": {
      "needs_background": "light"
     },
     "output_type": "display_data"
    }
   ],
   "source": [
    "import matplotlib.pyplot as plt\n",
    "plt.scatter(method,cluster_num)\n",
    "plt.show()"
   ]
  },
  {
   "cell_type": "code",
   "execution_count": 35,
   "metadata": {},
   "outputs": [
    {
     "data": {
      "image/png": "[encoded data removed]",
      "text/plain": [
       "<Figure size 432x288 with 1 Axes>"
      ]
     },
     "metadata": {
      "needs_background": "light"
     },
     "output_type": "display_data"
    }
   ],
   "source": [
    "import matplotlib.pyplot as plt\n",
    "plt.scatter(method,cluster_score)\n",
    "plt.show()"
   ]
  },
  {
   "cell_type": "code",
   "execution_count": 36,
   "metadata": {},
   "outputs": [
    {
     "data": {
      "image/png": "[encoded data removed]",
      "text/plain": [
       "<Figure size 432x288 with 1 Axes>"
      ]
     },
     "metadata": {
      "needs_background": "light"
     },
     "output_type": "display_data"
    }
   ],
   "source": [
    "import matplotlib.pyplot as plt\n",
    "plt.scatter(method[1:],cluster_score[1:])\n",
    "plt.show()"
   ]
  },
  {
   "cell_type": "code",
   "execution_count": 37,
   "metadata": {},
   "outputs": [
    {
     "data": {
      "image/png": "[encoded data removed]",
      "text/plain": [
       "<Figure size 432x288 with 1 Axes>"
      ]
     },
     "metadata": {
      "needs_background": "light"
     },
     "output_type": "display_data"
    }
   ],
   "source": [
    "#手肘法\n",
    "# 从Excel中读取数据存入数组\n",
    "# '利用SSE选择k'\n",
    "SSE = []  # 存放每次结果的误差平方和\n",
    "for k in range(1, 9):\n",
    "    estimator = KMeans(n_clusters=k)  # 构造聚类器\n",
    "    estimator.fit(X)\n",
    "    SSE.append(estimator.inertia_)\n",
    "xscale = range(1, 9)\n",
    "plt.xlabel('k')\n",
    "plt.ylabel('SSE')\n",
    "plt.plot(xscale, SSE, 'o-')\n",
    "plt.show()"
   ]
  },
  {
   "cell_type": "code",
   "execution_count": null,
   "metadata": {},
   "outputs": [],
   "source": [
    "from sklearn.metrics import silhouette_score\n",
    "Scores = []  # 存放轮廓系数\n",
    "for k in range(2, 9):\n",
    "    estimator = KMeans(n_clusters=k)  # 构造聚类器\n",
    "    estimator.fit(X)\n",
    "    Scores.append(silhouette_score(X, estimator.labels_, metric='euclidean'))\n",
    "X = range(2, 9)\n",
    "plt.xlabel('k')\n",
    "plt.ylabel('轮廓系数')\n",
    "plt.plot(X, Scores, 'o-')\n",
    "plt.show()"
   ]
  }
 ],
 "metadata": {
  "interpreter": {
   "hash": "13111f494e6ebc1524ade641c93be0c72e955777feacba29664e4dc2ee24faea"
  },
  "kernelspec": {
   "display_name": "Python 3.8.8 64-bit ('base': conda)",
   "language": "python",
   "name": "python3"
  },
  "language_info": {
   "codemirror_mode": {
    "name": "ipython",
    "version": 3
   },
   "file_extension": ".py",
   "mimetype": "text/x-python",
   "name": "python",
   "nbconvert_exporter": "python",
   "pygments_lexer": "ipython3",
   "version": "3.8.8"
  },
  "orig_nbformat": 4
 },
 "nbformat": 4,
 "nbformat_minor": 2
}
